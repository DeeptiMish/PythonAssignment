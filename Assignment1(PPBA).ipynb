{
 "cells": [
  {
   "cell_type": "raw",
   "metadata": {},
   "source": [
    "Q1.  Write a Python program to print \"Hello Python\"?\n",
    "\n",
    "Ans-   print(\"Hello Python\")\n",
    "\n",
    "\n",
    "Q2. Write a Python program to do arithmetical operations addition and division?\n",
    "\n",
    "Ans- a=float(input())\n",
    "     b=float(input())\n",
    "     c=a+b\n",
    "     d=a/b\n",
    "     print(c,a,b)\n",
    "     print(d,a,b)\n",
    "\n",
    "\n",
    "Q3. Write a Python program to find the area of a triangle?\n",
    "\n",
    "Ans-    print(\"Enter breadth\")\n",
    "        breadth = float(input())\n",
    "        print(\"Enter Height\")\n",
    "        height  = float(input())\n",
    "        area_of_triangle = (breadth*height)/2\n",
    "        print(\"area_of_triangle\",area_of_triangle)\n",
    "\n",
    "\n",
    "Q4. Write a Python program to swap two variables?\n",
    "\n",
    "Ans-   a = input()\n",
    "       b = input()\n",
    "\n",
    "       a, b = b, a\n",
    "       print(\"a=\", a)\n",
    "       print(\"b =\", b)\n",
    "       \n",
    "       \n",
    "Q5. Write a Python program to generate a random number?\n",
    "\n",
    "Ans- import random\n",
    "\n",
    "     print(random.randint(0,100))"
   ]
  }
 ],
 "metadata": {
  "kernelspec": {
   "display_name": "Python 3",
   "language": "python",
   "name": "python3"
  },
  "language_info": {
   "codemirror_mode": {
    "name": "ipython",
    "version": 3
   },
   "file_extension": ".py",
   "mimetype": "text/x-python",
   "name": "python",
   "nbconvert_exporter": "python",
   "pygments_lexer": "ipython3",
   "version": "3.6.3"
  }
 },
 "nbformat": 4,
 "nbformat_minor": 2
}
