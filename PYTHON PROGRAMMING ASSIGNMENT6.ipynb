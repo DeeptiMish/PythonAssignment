{
 "cells": [
  {
   "cell_type": "raw",
   "id": "4ad42d30",
   "metadata": {},
   "source": [
    "1. Write a Python Program to Display Fibonacci Sequence Using Recursion?\n",
    "2. Write a Python Program to Find Factorial of Number Using Recursion?\n",
    "3. Write a Python Program to calculate your Body Mass Index?\n",
    "4. Write a Python Program to calculate the natural logarithm of any number?\n",
    "5. Write a Python Program for cube sum of first n natural numbers?\n"
   ]
  },
  {
   "cell_type": "raw",
   "id": "348f3d4b",
   "metadata": {},
   "source": [
    "#Q.1- Write a Python Program to Display Fibonacci Sequence Using Recursion?\n",
    "#Ans-\n",
    "\n",
    "def recur_fibo(n):\n",
    "   if n <= 1:\n",
    "       return n\n",
    "   else:\n",
    "       return(recur_fibo(n-1) + recur_fibo(n-2))\n",
    "\n",
    "nterms = int(input(\"Enter any number:\"))\n",
    "\n",
    "# check if the number of terms is valid\n",
    "if nterms <= 0:\n",
    "   print(\"Plese enter a positive integer\")\n",
    "else:\n",
    "   print(\"Fibonacci sequence:\")\n",
    "   for i in range(nterms):\n",
    "       print(recur_fibo(i))"
   ]
  },
  {
   "cell_type": "raw",
   "id": "2552cab4",
   "metadata": {},
   "source": [
    "#Q.2-Write a Python Program to Find Factorial of Number Using Recursion?\n",
    "# Ans-\n",
    "\n",
    "def recur_factorial(n):\n",
    "   if n == 1:\n",
    "       return n\n",
    "   else:\n",
    "       return n*recur_factorial(n-1)\n",
    "\n",
    "num=int(input(\"Enter any number:\"))\n",
    "\n",
    "# check if the number is negative\n",
    "if num < 0:\n",
    "   print(\"Sorry, factorial does not exist for negative numbers\")\n",
    "elif num == 0:\n",
    "   print(\"The factorial of 0 is 1\")\n",
    "else:\n",
    "   print(\"The factorial of\", num, \"is\", recur_factorial(num))\n"
   ]
  },
  {
   "cell_type": "raw",
   "id": "516c46f5",
   "metadata": {},
   "source": [
    "#Q3. Write a Python Program to calculate your Body Mass Index?\n",
    "# Ans-\n",
    "\n",
    "def BMI(height, weight):\n",
    "    bmi = weight/(height**2)\n",
    "    return bmi\n",
    " \n",
    "\n",
    "height = float(input(\"Enter your height in metres:\"))\n",
    "weight = float(input(\"Enter your weight in kgs:\"))\n",
    " \n",
    "# calling the BMI function\n",
    "bmi = BMI(height, weight)\n",
    "print(\"The BMI is\", format(bmi), \"so \", end='')\n",
    " \n",
    "# Conditions to find out BMI category\n",
    "if (bmi < 18.5):\n",
    "    print(\"underweight\")\n",
    " \n",
    "elif ( bmi >= 18.5 and bmi < 24.9):\n",
    "    print(\"Healthy\")\n",
    " \n",
    "elif ( bmi >= 24.9 and bmi < 30):\n",
    "    print(\"overweight\")\n",
    " \n",
    "elif ( bmi >=30):\n",
    "    print(\"Suffering from Obesity\")\n"
   ]
  },
  {
   "cell_type": "raw",
   "id": "96db5c6a",
   "metadata": {},
   "source": [
    "#Q.4- Write a Python Program to calculate the natural logarithm of any number?\n",
    "#Ans- \n",
    " \n",
    "import math\n",
    " \n",
    "\n",
    "def log_of_any_no():\n",
    "    a=int(input(\"Enter any number:\"))\n",
    "    # Printing the log base e of 14\n",
    "    print (\"Natural logarithm of a is : \", end=\"\")\n",
    "    print (math.log(a))\n",
    "    \n",
    "    \n",
    "\n",
    "log_of_any_no()"
   ]
  },
  {
   "cell_type": "raw",
   "id": "cff30812",
   "metadata": {},
   "source": [
    "#Q.5-Write a Python Program for cube sum of first n natural numbers?\n",
    "\n",
    "#Ans-\n",
    "\n",
    "def cube_sum_naturalno():\n",
    "    a=int(input(\"Enter any number:\"))\n",
    "    sum=0\n",
    "    for i in range(1,a+1):\n",
    "        sum = sum + i**3\n",
    "    return sum\n",
    "\n",
    "\n",
    "        \n",
    "cube_sum_naturalno()     "
   ]
  },
  {
   "cell_type": "code",
   "execution_count": null,
   "id": "7508861b",
   "metadata": {},
   "outputs": [],
   "source": [
    "\n",
    "\n",
    "\n"
   ]
  },
  {
   "cell_type": "raw",
   "id": "cc03b3cd",
   "metadata": {},
   "source": [
    "# "
   ]
  }
 ],
 "metadata": {
  "kernelspec": {
   "display_name": "Python 3 (ipykernel)",
   "language": "python",
   "name": "python3"
  },
  "language_info": {
   "codemirror_mode": {
    "name": "ipython",
    "version": 3
   },
   "file_extension": ".py",
   "mimetype": "text/x-python",
   "name": "python",
   "nbconvert_exporter": "python",
   "pygments_lexer": "ipython3",
   "version": "3.9.7"
  }
 },
 "nbformat": 4,
 "nbformat_minor": 5
}
