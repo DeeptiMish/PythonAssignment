{
 "cells": [
  {
   "cell_type": "markdown",
   "id": "d0565e7a",
   "metadata": {},
   "source": [
    "# Python Screening Assignment\n",
    "1. Create a function in python to read the text file and replace specific content\n",
    "   of the file.\n",
    "\n",
    "   File name                   example.txt\n",
    "   Origin file content        \"This is a placement assignment\"\n",
    "   Replace string             \"Placement should be replaced by screening\"\n",
    "   Replaced file content      \"This is a screening assignment\""
   ]
  },
  {
   "cell_type": "code",
   "execution_count": 1,
   "id": "7e49be6b",
   "metadata": {},
   "outputs": [
    {
     "name": "stdout",
     "output_type": "stream",
     "text": [
      "Text replaced\n"
     ]
    },
    {
     "data": {
      "text/plain": [
       "'This is a screening assignment'"
      ]
     },
     "execution_count": 1,
     "metadata": {},
     "output_type": "execute_result"
    }
   ],
   "source": [
    "search_text = \"placement\"\n",
    "  \n",
    "\n",
    "replace_text = \"screening\"\n",
    "\n",
    "f=open(\"example.txt\",'w')\n",
    "f.write(\"This is a placement assignment\")\n",
    "f.close()\n",
    "  \n",
    "\n",
    "with open(r'example.txt', 'r') as file:\n",
    "  \n",
    "  \n",
    "    data = file.read()\n",
    "  \n",
    "    \n",
    "    data = data.replace(search_text, replace_text)\n",
    "    \n",
    "    with open(r'example.txt', 'w') as file:\n",
    "        file.write(data)\n",
    "        f.close()\n",
    "  \n",
    "# Printing Text replaced\n",
    "print(\"Text replaced\")\n",
    "\n",
    "f=open('example.txt','r')\n",
    "f.read()"
   ]
  },
  {
   "cell_type": "code",
   "execution_count": 2,
   "id": "8656856e",
   "metadata": {},
   "outputs": [
    {
     "name": "stdout",
     "output_type": "stream",
     "text": [
      "1. CSS Basics.pdf\r\n",
      "1. JavaScript Basics.pdf\r\n",
      "18decpythonclass.ipynb\r\n",
      "19 dec if else , for loop.ipynb\r\n",
      "19 decif else.ipynb\r\n",
      "20decforElse,break,continue,range,while.ipynb\r\n",
      "21 dec practice prob.ipynb\r\n",
      "23decFUNCTION.ipynb\r\n",
      "29janoopsInheritance.ipynb\r\n",
      "4 dec class.ipynb\r\n",
      "5decpythonclass2021.ipynb\r\n",
      "6 FEB MYSQL with PYthon.ipynb\r\n",
      "8 dec args.ipynb\r\n",
      "9janfilefun.ipynb\r\n",
      "ASSIGNMENT 5 (PYTHON BASIC ASSIGNMENT).ipynb\r\n",
      "Assignment 1 (PYTHON BASIC ASSIGNMENT).ipynb\r\n",
      "Assignment 5PBA.ipynb\r\n",
      "Assignment PAA1.ipynb\r\n",
      "Assignment1(PPBA).ipynb\r\n",
      "Assignment2(PPBA).ipynb\r\n",
      "Assignment2(PythonBasic).ipynb\r\n",
      "Assignment3(PPBA).ipynb\r\n",
      "Assignment3(PythonBasic).ipynb\r\n",
      "Assignment4(PPBA).ipynb\r\n",
      "Factorials.ipynb\r\n",
      "MYSQL CLASS 5FEB.ipynb\r\n",
      "Modules 22 jan .ipynb\r\n",
      "Polymorphism30jan.ipynb\r\n",
      "Python PDFS.zip\r\n",
      "Python learning.ipynb\r\n",
      "Untitled-1.ipynb\r\n",
      "Untitled.ipynb\r\n",
      "Untitled1.ipynb\r\n",
      "Untitled10.ipynb\r\n",
      "Untitled11.ipynb\r\n",
      "Untitled12.ipynb\r\n",
      "Untitled13.ipynb\r\n",
      "Untitled14.ipynb\r\n",
      "Untitled15.ipynb\r\n",
      "Untitled16.ipynb\r\n",
      "Untitled17.ipynb\r\n",
      "Untitled2.ipynb\r\n",
      "Untitled3.ipynb\r\n",
      "Untitled4.ipynb\r\n",
      "Untitled5.ipynb\r\n",
      "Untitled6.ipynb\r\n",
      "Untitled7.ipynb\r\n",
      "Untitled8.ipynb\r\n",
      "Untitled9.ipynb\r\n",
      "assignmentQ23Dec.ipynb\r\n",
      "car.data\r\n",
      "car.names\r\n",
      "classAndobjects22Jan.ipynb\r\n",
      "example\r\n",
      "example.txt\r\n",
      "exception handlingpython16jan.ipynb\r\n",
      "exception15janPython.ipynb\r\n",
      "factorial.log\r\n",
      "get-pip.py\r\n",
      "glass.data\r\n",
      "list.log\r\n",
      "logging16janpython.ipynb\r\n",
      "mydict.py\r\n",
      "mymodule.py\r\n",
      "test.log\r\n",
      "test.txt\r\n",
      "test1.txt\r\n",
      "test2.log\r\n",
      "test2.txt\r\n",
      "test3.log\r\n",
      "test3.txt\r\n",
      "test8.py\r\n",
      "text.txt\r\n"
     ]
    }
   ],
   "source": [
    "!ls"
   ]
  },
  {
   "cell_type": "markdown",
   "id": "60e8e710",
   "metadata": {},
   "source": [
    "# 2. Demonstrate use of abstract class, multiple inheritance and decorator in python using examples."
   ]
  },
  {
   "cell_type": "markdown",
   "id": "c8c35629",
   "metadata": {},
   "source": [
    "# Abstraction-\n",
    "  A class that consists of one or more abstract method is called the abstract class. Abstract methods do not contain     their implementation. Abstract class can be inherited by the subclass and abstract method gets its definition in the   subclass. Abstraction classes are meant to be the blueprint of the other class. An abstract class can be useful when   we are designing large functions. An abstract class is also helpful to provide the standard interface for different   implementations of components. Python provides the abc module to use the abstraction in the Python program. Let's     see the following syntax."
   ]
  },
  {
   "cell_type": "code",
   "execution_count": 9,
   "id": "0113f78b",
   "metadata": {},
   "outputs": [
    {
     "name": "stdout",
     "output_type": "stream",
     "text": [
      "Triangle has 3 sides\n",
      "I have 4 sides\n",
      "Pentagon has 5 sides\n",
      "Hexagon has 6 sides\n",
      "Triangle has 3 sides\n",
      "I have 4 sides\n",
      "Pentagon has 5 sides\n",
      "Hexagon has 6 sides\n"
     ]
    }
   ],
   "source": [
    "\n",
    "\n",
    "\n",
    "\n",
    "# Python program to define   \n",
    "# abstract class  \n",
    "  \n",
    "from abc import ABC  \n",
    "  \n",
    "class Polygon(ABC):   \n",
    "  \n",
    "   # abstract method   \n",
    "    def sides(self):\n",
    "        pass  \n",
    "class Triangle(Polygon):   \n",
    "  \n",
    "     \n",
    "    def sides(self):   \n",
    "        print(\"Triangle has 3 sides\")   \n",
    "\n",
    "class Pentagon(Polygon):   \n",
    "  \n",
    "     \n",
    "    def sides(self):   \n",
    "        print(\"Pentagon has 5 sides\")   \n",
    "\n",
    "class Hexagon(Polygon):   \n",
    "  \n",
    "    def sides(self):   \n",
    "        print(\"Hexagon has 6 sides\")\n",
    "\n",
    "class square(Polygon):   \n",
    "  \n",
    "   def sides(self):   \n",
    "        print(\"I have 4 sides\")   \n",
    "  \n",
    "# Driver code   \n",
    "t = Triangle()   \n",
    "t.sides()   \n",
    "  \n",
    "s = square()   \n",
    "s.sides()   \n",
    "  \n",
    "p = Pentagon()   \n",
    "p.sides()   \n",
    "  \n",
    "k = Hexagon()   \n",
    "k.sides()   \n",
    "\n",
    "\n",
    "\n",
    "# Python program to define   \n",
    "# abstract class  \n",
    "  \n",
    "from abc import ABC  \n",
    "  \n",
    "class Polygon(ABC):   \n",
    "  \n",
    "   # abstract method   \n",
    "    def sides(self):\n",
    "        pass  \n",
    "class Triangle(Polygon):   \n",
    "  \n",
    "     \n",
    "    def sides(self):   \n",
    "        print(\"Triangle has 3 sides\")   \n",
    "\n",
    "class Pentagon(Polygon):   \n",
    "  \n",
    "     \n",
    "    def sides(self):   \n",
    "        print(\"Pentagon has 5 sides\")   \n",
    "\n",
    "class Hexagon(Polygon):   \n",
    "  \n",
    "    def sides(self):   \n",
    "        print(\"Hexagon has 6 sides\")\n",
    "\n",
    "class square(Polygon):   \n",
    "  \n",
    "   def sides(self):   \n",
    "        print(\"I have 4 sides\")   \n",
    "  \n",
    "# object   \n",
    "t = Triangle()   \n",
    "t.sides()   \n",
    "  \n",
    "s = square()   \n",
    "s.sides()   \n",
    "  \n",
    "p = Pentagon()   \n",
    "p.sides()   \n",
    "  \n",
    "k = Hexagon()   \n",
    "k.sides()   "
   ]
  },
  {
   "cell_type": "markdown",
   "id": "96a687a3",
   "metadata": {},
   "source": [
    "# Multiple Inheritance- \n",
    "  In multiple inheritance a class is derived from more than one base class.Features of all the base classes are         inherited into the derived class."
   ]
  },
  {
   "cell_type": "code",
   "execution_count": 6,
   "id": "1bbdd79c",
   "metadata": {},
   "outputs": [
    {
     "name": "stdout",
     "output_type": "stream",
     "text": [
      "name: suresh age: 19 roll: 45 percentage: 78.5 Stream: maths\n"
     ]
    }
   ],
   "source": [
    "class Person:\n",
    "    def __init__(self,name,age):\n",
    "        self.name=name\n",
    "        self.age=age\n",
    "        \n",
    "    def getname(self):\n",
    "        return self.name\n",
    "    def getage(self):\n",
    "        return self.age\n",
    "class Student:\n",
    "    def __init__(self,roll,per):\n",
    "        self.roll=roll\n",
    "        self.per=per\n",
    "    def getroll(self):\n",
    "        return self.roll\n",
    "    def getper(self):\n",
    "        return self.per\n",
    "class ScienceStudent(Person,Student):\n",
    "    def __init__(self,name,age,roll,per,stream):\n",
    "        Person.__init__(self,name,age)\n",
    "        Student.__init__(self,roll,per)\n",
    "        self.stream=stream\n",
    "    def getstream(self):\n",
    "        return self.stream\n",
    "ms=ScienceStudent(\"suresh\",19,45,78.5,\"maths\")\n",
    "print(\"name:\",ms.getname(),\"age:\",ms.getage(),\"roll:\",ms.getroll(),\"percentage:\",ms.getper(),\"Stream:\",ms.getstream())"
   ]
  },
  {
   "cell_type": "markdown",
   "id": "c7a15cdf",
   "metadata": {},
   "source": [
    "# Decorator-\n",
    " A decorator takes in a function, adds some functionality and returns it. It is denoted by @.\n"
   ]
  },
  {
   "cell_type": "code",
   "execution_count": 13,
   "id": "a52b3a5b",
   "metadata": {},
   "outputs": [
    {
     "name": "stdout",
     "output_type": "stream",
     "text": [
      "Enter raise percentage:5\n",
      "Amit 24 50000\n",
      "Amit 24 52500.0\n",
      "Rahul 45 60000\n",
      "Rahul 45 63000.0\n"
     ]
    }
   ],
   "source": [
    "class Emp:\n",
    "    raise_amount=0\n",
    "    @classmethod\n",
    "    def set_raise_amount(cls):\n",
    "        cls.raise_amount=float(input(\"Enter raise percentage:\"))\n",
    "        \n",
    "    def __init__(self,name,age,sal):\n",
    "        self.name=name\n",
    "        self.age=age\n",
    "        self.sal=sal\n",
    "    def increase_sal(self):\n",
    "        self.sal=self.sal+(self.sal*Emp.raise_amount/100)\n",
    "    def display(self):\n",
    "        print(self.name,self.age,self.sal)\n",
    "        \n",
    "Emp.set_raise_amount()\n",
    "e1=Emp(\"Amit\",24,50000)\n",
    "e2=Emp(\"Rahul\",45,60000)\n",
    "e1.display()\n",
    "e1.increase_sal()\n",
    "e1.display()\n",
    "e2.display()\n",
    "e2.increase_sal()\n",
    "e2.display()\n",
    "        \n",
    "    "
   ]
  },
  {
   "cell_type": "code",
   "execution_count": null,
   "id": "2a643810",
   "metadata": {},
   "outputs": [],
   "source": []
  }
 ],
 "metadata": {
  "kernelspec": {
   "display_name": "Python 3 (ipykernel)",
   "language": "python",
   "name": "python3"
  },
  "language_info": {
   "codemirror_mode": {
    "name": "ipython",
    "version": 3
   },
   "file_extension": ".py",
   "mimetype": "text/x-python",
   "name": "python",
   "nbconvert_exporter": "python",
   "pygments_lexer": "ipython3",
   "version": "3.9.7"
  }
 },
 "nbformat": 4,
 "nbformat_minor": 5
}
