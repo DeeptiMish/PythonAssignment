{
 "cells": [
  {
   "cell_type": "raw",
   "id": "3d9ec259",
   "metadata": {},
   "source": [
    "1. What exactly is []?\n",
    "\n",
    "Ans1- A list is created by placing elements inside square brackets [] , separated by commas. A list can have any             number  of items and they may be of different types (integer, float, string, etc.). A list can also have               another list as an item. This is called a nested list.\n"
   ]
  },
  {
   "cell_type": "markdown",
   "id": "5d4308e3",
   "metadata": {},
   "source": [
    "2. In a list of values stored in a variable called spam, how would you assign the value 'hello' as the\n",
    "   third value? (Assume [2, 4, 6, 8, 10] are in spam.)"
   ]
  },
  {
   "cell_type": "code",
   "execution_count": 1,
   "id": "e2df68ea",
   "metadata": {},
   "outputs": [],
   "source": [
    "# Ans-2\n",
    "\n",
    "\n",
    "spam=[2,4,6,8,10]"
   ]
  },
  {
   "cell_type": "code",
   "execution_count": 2,
   "id": "680306ba",
   "metadata": {},
   "outputs": [],
   "source": [
    "spam[2]='hello'"
   ]
  },
  {
   "cell_type": "code",
   "execution_count": 3,
   "id": "7d68cc39",
   "metadata": {},
   "outputs": [
    {
     "data": {
      "text/plain": [
       "[2, 4, 'hello', 8, 10]"
      ]
     },
     "execution_count": 3,
     "metadata": {},
     "output_type": "execute_result"
    }
   ],
   "source": [
    "spam"
   ]
  },
  {
   "cell_type": "markdown",
   "id": "62b0a345",
   "metadata": {},
   "source": [
    "Let's pretend the spam includes the list ['a', 'b', 'c', 'd'] for the next three queries.\n",
    "\n",
    "3. What is the value of spam[int(int('3' * 2) / 11)]?\n",
    "4. What is the value of spam[-1]?\n",
    "5. What is the value of spam[:2]?"
   ]
  },
  {
   "cell_type": "code",
   "execution_count": 5,
   "id": "e51de591",
   "metadata": {},
   "outputs": [
    {
     "data": {
      "text/plain": [
       "'d'"
      ]
     },
     "execution_count": 5,
     "metadata": {},
     "output_type": "execute_result"
    }
   ],
   "source": [
    "# Ans-3\n",
    "\n",
    "spam=['a','b','c','d']\n",
    "\n",
    "spam[int(int('3'*2)/11)]"
   ]
  },
  {
   "cell_type": "code",
   "execution_count": 9,
   "id": "fb70bb17",
   "metadata": {},
   "outputs": [
    {
     "data": {
      "text/plain": [
       "'d'"
      ]
     },
     "execution_count": 9,
     "metadata": {},
     "output_type": "execute_result"
    }
   ],
   "source": [
    "#Ans 4-\n",
    "\n",
    "spam[-1]"
   ]
  },
  {
   "cell_type": "code",
   "execution_count": 10,
   "id": "6d20cd25",
   "metadata": {},
   "outputs": [
    {
     "data": {
      "text/plain": [
       "['a', 'b']"
      ]
     },
     "execution_count": 10,
     "metadata": {},
     "output_type": "execute_result"
    }
   ],
   "source": [
    "#Ans 5- \n",
    "spam[:2]"
   ]
  },
  {
   "cell_type": "markdown",
   "id": "28744800",
   "metadata": {},
   "source": [
    "Let's pretend bacon has the list [3.14, 'cat', 11, 'cat',' True'] for the next three questions.\n",
    "6. What is the value of bacon.index('cat')?\n",
    "7. How does bacon.append(99) change the look of the list value in bacon?\n",
    "8. How does bacon.remove('cat') change the look of the list in bacon?"
   ]
  },
  {
   "cell_type": "code",
   "execution_count": 29,
   "id": "a891baa6",
   "metadata": {},
   "outputs": [],
   "source": [
    "# Ans-6\n",
    "\n",
    "bacon=[3.14, 'cat', 11, 'cat',' True']\n"
   ]
  },
  {
   "cell_type": "code",
   "execution_count": 30,
   "id": "d1644dd4",
   "metadata": {},
   "outputs": [
    {
     "data": {
      "text/plain": [
       "1"
      ]
     },
     "execution_count": 30,
     "metadata": {},
     "output_type": "execute_result"
    }
   ],
   "source": [
    "bacon.index('cat')"
   ]
  },
  {
   "cell_type": "code",
   "execution_count": 31,
   "id": "5aab8ca4",
   "metadata": {},
   "outputs": [
    {
     "data": {
      "text/plain": [
       "[3.14, 'cat', 11, 'cat', ' True', 99]"
      ]
     },
     "execution_count": 31,
     "metadata": {},
     "output_type": "execute_result"
    }
   ],
   "source": [
    "#Ans-7\n",
    "\n",
    "bacon.append(99)\n",
    "\n",
    "bacon"
   ]
  },
  {
   "cell_type": "code",
   "execution_count": 32,
   "id": "afa7cb6e",
   "metadata": {},
   "outputs": [],
   "source": [
    "# Ans8\n",
    "bacon.remove('cat')\n"
   ]
  },
  {
   "cell_type": "code",
   "execution_count": 33,
   "id": "bf836049",
   "metadata": {},
   "outputs": [
    {
     "data": {
      "text/plain": [
       "[3.14, 11, 'cat', ' True', 99]"
      ]
     },
     "execution_count": 33,
     "metadata": {},
     "output_type": "execute_result"
    }
   ],
   "source": [
    "bacon"
   ]
  },
  {
   "cell_type": "markdown",
   "id": "45d2df3e",
   "metadata": {},
   "source": [
    "9. What are the list concatenation and list replication operators?\n",
    "\n",
    "Ans- The operator for list concatenation is +, while the operator for replication is *. (This is the same as for            strings.)"
   ]
  },
  {
   "cell_type": "markdown",
   "id": "94ef4d06",
   "metadata": {},
   "source": [
    "10. What is difference between the list methods append() and insert()?\n",
    "\n",
    "Ans- While append() will add values only to the end of a list, insert() can add them anywhere in the list."
   ]
  },
  {
   "cell_type": "markdown",
   "id": "e0ad1571",
   "metadata": {},
   "source": [
    "11. What are the two methods for removing items from a list?\n",
    "\n",
    "Ans- The del statement and the remove() list method are two ways to remove values from a list."
   ]
  },
  {
   "cell_type": "markdown",
   "id": "9098dc7a",
   "metadata": {},
   "source": [
    "12. Describe how list values and string values are identical.\n",
    "\n",
    "Ans- Both lists and strings can be passed to len(), have indexes and slices, be used in for loops, be concatenated or      replicated, and be used with the in and not in operators."
   ]
  },
  {
   "cell_type": "markdown",
   "id": "39720370",
   "metadata": {},
   "source": [
    "13. What's the difference between tuples and lists?\n",
    "\n",
    "Ans- Lists are mutable; they can have values added, removed, or changed. Tuples are immutable; they cannot be changed      at all. Also, tuples are written using parentheses, ( yup ), while lists use the square brackets, [yup]."
   ]
  },
  {
   "cell_type": "markdown",
   "id": "d292499c",
   "metadata": {},
   "source": [
    "14. How do you type a tuple value that only contains the integer 42?\n",
    "\n",
    "Ans- (42,) (The trailing comma is mandatory.)"
   ]
  },
  {
   "cell_type": "markdown",
   "id": "0a449bc0",
   "metadata": {},
   "source": [
    "15. How do you get a list value's tuple form? How do you get a tuple value's list form?\n",
    "\n",
    "Ans- The tuple() and list() functions, respectively"
   ]
  },
  {
   "cell_type": "markdown",
   "id": "1bb1b5a5",
   "metadata": {},
   "source": [
    "16. Variables that \"contain\" list values are not necessarily lists themselves. Instead, what do they\n",
    "    contain?\n",
    "\n",
    "Ans- They contain references to list values.\n"
   ]
  },
  {
   "cell_type": "markdown",
   "id": "55b8c7ca",
   "metadata": {},
   "source": [
    "17. How do you distinguish between copy.copy() and copy.deepcopy()?\n",
    "\n",
    "Ans- For immutable objects, there is no need for copying because the data will never change, so Python uses the same        data; ids are always the same. For mutable objects, since they can potentially change, [shallow] copy creates a        new object.\n",
    "\n",
    "     Deep copy is related to nested structures. If you have list of lists, then deepcopy copies the nested lists also,      so it is a recursive copy. With just copy, you have a new outer list, but inner lists are references.\n",
    "\n",
    "     Assignment does not copy. It simply sets the reference to the old data. So you need copy to create a new list          with the same contents.\n",
    "     \n",
    "     \n",
    "     \n",
    "     \n"
   ]
  },
  {
   "cell_type": "code",
   "execution_count": 41,
   "id": "8abe9319",
   "metadata": {},
   "outputs": [],
   "source": [
    "# Example\n",
    "\n",
    "\n",
    "import copy\n",
    "\n",
    "a = [1, 2, 3]\n",
    "b = [4, 5, 6]\n",
    "c = [a, b]\n",
    "#Using normal assignment operatings to copy:\n",
    "\n",
    "d = c\n",
    "\n"
   ]
  },
  {
   "cell_type": "code",
   "execution_count": 42,
   "id": "504f6b1a",
   "metadata": {},
   "outputs": [
    {
     "data": {
      "text/plain": [
       "True"
      ]
     },
     "execution_count": 42,
     "metadata": {},
     "output_type": "execute_result"
    }
   ],
   "source": [
    "id(c)==id(d)"
   ]
  },
  {
   "cell_type": "code",
   "execution_count": 43,
   "id": "16dadb00",
   "metadata": {},
   "outputs": [
    {
     "data": {
      "text/plain": [
       "True"
      ]
     },
     "execution_count": 43,
     "metadata": {},
     "output_type": "execute_result"
    }
   ],
   "source": [
    "id(c[0])==id(d[0])"
   ]
  },
  {
   "cell_type": "code",
   "execution_count": 45,
   "id": "26a6302f",
   "metadata": {},
   "outputs": [
    {
     "data": {
      "text/plain": [
       "False"
      ]
     },
     "execution_count": 45,
     "metadata": {},
     "output_type": "execute_result"
    }
   ],
   "source": [
    "# using a shallow copy:\n",
    "\n",
    "d = copy.copy(c)\n",
    "\n",
    "id(c) == id(d)          # False - d is now a new object\n"
   ]
  },
  {
   "cell_type": "code",
   "execution_count": 46,
   "id": "d999d83f",
   "metadata": {},
   "outputs": [
    {
     "data": {
      "text/plain": [
       "True"
      ]
     },
     "execution_count": 46,
     "metadata": {},
     "output_type": "execute_result"
    }
   ],
   "source": [
    "id(c[0]) == id(d[0])    # True - d[0] is the same object as c[0]"
   ]
  },
  {
   "cell_type": "code",
   "execution_count": 47,
   "id": "3280144e",
   "metadata": {},
   "outputs": [
    {
     "data": {
      "text/plain": [
       "False"
      ]
     },
     "execution_count": 47,
     "metadata": {},
     "output_type": "execute_result"
    }
   ],
   "source": [
    "# Using a deep copy:\n",
    "\n",
    "d = copy.deepcopy(c)\n",
    "\n",
    "id(c) == id(d)          # False - d is now a new object\n",
    "  "
   ]
  },
  {
   "cell_type": "code",
   "execution_count": 48,
   "id": "1d97cd50",
   "metadata": {},
   "outputs": [
    {
     "data": {
      "text/plain": [
       "False"
      ]
     },
     "execution_count": 48,
     "metadata": {},
     "output_type": "execute_result"
    }
   ],
   "source": [
    "id(c[0]) == id(d[0])    # False - d[0] is now a new object"
   ]
  },
  {
   "cell_type": "code",
   "execution_count": null,
   "id": "feb3c9c0",
   "metadata": {},
   "outputs": [],
   "source": []
  }
 ],
 "metadata": {
  "kernelspec": {
   "display_name": "Python 3 (ipykernel)",
   "language": "python",
   "name": "python3"
  },
  "language_info": {
   "codemirror_mode": {
    "name": "ipython",
    "version": 3
   },
   "file_extension": ".py",
   "mimetype": "text/x-python",
   "name": "python",
   "nbconvert_exporter": "python",
   "pygments_lexer": "ipython3",
   "version": "3.9.7"
  }
 },
 "nbformat": 4,
 "nbformat_minor": 5
}
